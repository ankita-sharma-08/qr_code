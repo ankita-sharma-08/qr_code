{
  "nbformat": 4,
  "nbformat_minor": 0,
  "metadata": {
    "colab": {
      "provenance": []
    },
    "kernelspec": {
      "name": "python3",
      "display_name": "Python 3"
    },
    "language_info": {
      "name": "python"
    }
  },
  "cells": [
    {
      "cell_type": "code",
      "execution_count": 1,
      "metadata": {
        "id": "SM9e7PRUvcYX",
        "colab": {
          "base_uri": "https://localhost:8080/"
        },
        "outputId": "5c944ef6-85ac-4560-8488-fb1584c5ec91"
      },
      "outputs": [
        {
          "output_type": "stream",
          "name": "stdout",
          "text": [
            "Collecting qrcode\n",
            "  Downloading qrcode-8.2-py3-none-any.whl.metadata (17 kB)\n",
            "Downloading qrcode-8.2-py3-none-any.whl (45 kB)\n",
            "\u001b[?25l   \u001b[90m━━━━━━━━━━━━━━━━━━━━━━━━━━━━━━━━━━━━━━━━\u001b[0m \u001b[32m0.0/46.0 kB\u001b[0m \u001b[31m?\u001b[0m eta \u001b[36m-:--:--\u001b[0m\r\u001b[2K   \u001b[90m━━━━━━━━━━━━━━━━━━━━━━━━━━━━━━━━━━━━━━━━\u001b[0m \u001b[32m46.0/46.0 kB\u001b[0m \u001b[31m1.9 MB/s\u001b[0m eta \u001b[36m0:00:00\u001b[0m\n",
            "\u001b[?25hInstalling collected packages: qrcode\n",
            "Successfully installed qrcode-8.2\n"
          ]
        }
      ],
      "source": [
        "! pip install qrcode"
      ]
    },
    {
      "cell_type": "code",
      "source": [
        "! pip install pillow"
      ],
      "metadata": {
        "colab": {
          "base_uri": "https://localhost:8080/"
        },
        "id": "2wZT5RrRwS--",
        "outputId": "653ce2d3-14e0-4eb6-80eb-611747d41ea4"
      },
      "execution_count": 2,
      "outputs": [
        {
          "output_type": "stream",
          "name": "stdout",
          "text": [
            "Requirement already satisfied: pillow in /usr/local/lib/python3.11/dist-packages (11.2.1)\n"
          ]
        }
      ]
    },
    {
      "cell_type": "code",
      "source": [
        "import qrcode\n",
        "\n",
        "# Get input from user\n",
        "UPI_ID = input('Enter UPI_ID : ')\n",
        "Name = input('Enter Payee Name : ')\n",
        "Amount = input('Enter Amount to pay : ')\n",
        "\n",
        "# Craete upi payment link\n",
        "upi_link = f\"upi://pay?pa={UPI_ID}&pn={Name}&am={Amount}&cu=INR\"\n",
        "\n",
        "# Generate qr code\n",
        "qr = qrcode.make(upi_link)\n",
        "\n",
        "# Save qr code as image\n",
        "qr.save('Payment_qr.png')\n",
        "\n",
        "# Display qrcode\n",
        "from IPython.display import Image\n",
        "Image(filename = 'Payment_qr.png')\n",
        "\n",
        "print(\"✅ QR Code generated and saved as 'Payment_qr.png'\")\n",
        "display(Image(filename='Payment_qr.png'))\n"
      ],
      "metadata": {
        "colab": {
          "base_uri": "https://localhost:8080/",
          "height": 496
        },
        "id": "EqSPc_owwWCA",
        "outputId": "e157fea4-2365-4dfb-b59f-5a44accb19eb"
      },
      "execution_count": 6,
      "outputs": [
        {
          "output_type": "stream",
          "name": "stdout",
          "text": [
            "Enter UPI_ID : 8637780720@ibl\n",
            "Enter Payee Name : Ankita Sharma\n",
            "Enter Amount to pay : 10\n",
            "✅ QR Code generated and saved as 'Payment_qr.png'\n"
          ]
        },
        {
          "output_type": "display_data",
          "data": {
            "image/png": "[encoded data removed]",
            "text/plain": [
              "<IPython.core.display.Image object>"
            ]
          },
          "metadata": {}
        }
      ]
    },
    {
      "cell_type": "code",
      "source": [],
      "metadata": {
        "id": "kU3m0xcozyVs"
      },
      "execution_count": null,
      "outputs": []
    }
  ]
}